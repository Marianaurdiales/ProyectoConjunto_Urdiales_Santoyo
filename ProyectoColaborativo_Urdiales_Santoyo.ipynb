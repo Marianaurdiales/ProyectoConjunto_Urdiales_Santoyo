{
 "cells": [
  {
   "cell_type": "markdown",
   "id": "fb8e96f0",
   "metadata": {},
   "source": [
    "#\n",
    "ESPECTATIVAS DEL CURSO\n",
    "-\n",
    "-\n"
   ]
  },
  {
   "cell_type": "markdown",
   "id": "624bbe61",
   "metadata": {},
   "source": [
    "#Cambios realizados por Andres"
   ]
  },
  {
   "cell_type": "markdown",
   "id": "71b16f8e",
   "metadata": {},
   "source": [
    "La espectativa que tengo para este curso es poder adquirir una herramienta nueva para poder trabajar de mejor manera mis proyectos de la escuela, y a su vez poder facilitarme las tareas y examenes creando modelos que sirvan de apoyo para resolverlos de manera mas facil y generar diversos tipos de modelos que me ayuden a resolver tareas de la vida cotidiana o incluso en un futuro desempeñarlos en el campo laboral"
   ]
  },
  {
   "cell_type": "code",
   "execution_count": null,
   "id": "d640eb94",
   "metadata": {},
   "outputs": [],
   "source": []
  },
  {
   "cell_type": "code",
   "execution_count": null,
   "id": "6ae3f5a2",
   "metadata": {},
   "outputs": [],
   "source": []
  }
 ],
 "metadata": {
  "kernelspec": {
   "display_name": "Python 3 (ipykernel)",
   "language": "python",
   "name": "python3"
  },
  "language_info": {
   "codemirror_mode": {
    "name": "ipython",
    "version": 3
   },
   "file_extension": ".py",
   "mimetype": "text/x-python",
   "name": "python",
   "nbconvert_exporter": "python",
   "pygments_lexer": "ipython3",
   "version": "3.11.4"
  }
 },
 "nbformat": 4,
 "nbformat_minor": 5
}
